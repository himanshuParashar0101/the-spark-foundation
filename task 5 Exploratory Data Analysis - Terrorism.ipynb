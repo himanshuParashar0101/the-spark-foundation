{
 "cells": [
  {
   "cell_type": "markdown",
   "metadata": {},
   "source": [
    "### Author: Himanshu Parashar\n",
    "### Task-5 -Exploratory Data Analysis - Terrorism\n",
    "\n",
    "##### the spark faundation\n",
    "- Problem Statement: Perform ‘Exploratory Data Analysis’ on dataset ‘Global Terrorism’\n",
    "\n",
    "- As a security/defense analyst, try to find out the hot zone of terrorism.\n",
    "\n",
    "- What all security issues and insights you can derive by EDA?\n",
    "\n",
    "\n"
   ]
  },
  {
   "cell_type": "markdown",
   "metadata": {},
   "source": [
    "#### Import Libraries"
   ]
  },
  {
   "cell_type": "code",
   "execution_count": null,
   "metadata": {},
   "outputs": [],
   "source": [
    "import numpy as np\n",
    "import pandas as pd\n",
    "import seaborn as sns\n",
    "import matplotlib.pyplot as plt\n",
    "!py -m pip install folium"
   ]
  },
  {
   "cell_type": "code",
   "execution_count": null,
   "metadata": {},
   "outputs": [],
   "source": [
    "import folium\n",
    "from folium.plugins import MarkerCluster"
   ]
  },
  {
   "cell_type": "code",
   "execution_count": null,
   "metadata": {},
   "outputs": [],
   "source": [
    "df = pd.read_csv(\"globalterrorismdb.csv\",encoding='latin1')"
   ]
  },
  {
   "cell_type": "code",
   "execution_count": null,
   "metadata": {},
   "outputs": [],
   "source": [
    "df.head()"
   ]
  },
  {
   "cell_type": "code",
   "execution_count": null,
   "metadata": {},
   "outputs": [],
   "source": [
    "df.info()"
   ]
  },
  {
   "cell_type": "code",
   "execution_count": null,
   "metadata": {},
   "outputs": [],
   "source": [
    "df.describe()"
   ]
  },
  {
   "cell_type": "code",
   "execution_count": null,
   "metadata": {},
   "outputs": [],
   "source": [
    "df.corr()"
   ]
  },
  {
   "cell_type": "code",
   "execution_count": null,
   "metadata": {},
   "outputs": [],
   "source": [
    "df.columns"
   ]
  },
  {
   "cell_type": "markdown",
   "metadata": {},
   "source": [
    "### US Terror Attacks and Death Injuries."
   ]
  },
  {
   "cell_type": "code",
   "execution_count": null,
   "metadata": {},
   "outputs": [],
   "source": [
    "df.nkillus.plot(kind = 'line', color = 'red', label = 'The Number of Total Confirmed Fatalities for US', linewidth = 2, alpha = 0.8, grid = True, \n",
    "                 linestyle = ':', figsize = (20,20), fontsize=15)\n",
    "df.nwoundus.plot(color = \"green\", label = 'The Number of Confirmed Non-Fatal Injuries for US', linewidth = 2, alpha = 0.8, grid = True, \n",
    "                 linestyle = '-.', figsize = (20,20), fontsize=15)\n",
    "\n",
    "plt.legend(loc='upper right')     # legend = puts label into plot\n",
    "plt.xlabel('Database Index', fontsize=10)              # label = name of label\n",
    "plt.ylabel('Number of Dead or Injuries', fontsize=15)\n",
    "\n",
    "plt.title('Confirmed Fatalities & Non-Fatal Injuries for US')            #plot title\n",
    "plt.show()"
   ]
  },
  {
   "cell_type": "markdown",
   "metadata": {},
   "source": [
    "- Given that the data is sorted by dates, attacks on US citizens seem to be very rare in a given date range. But the terrorist act against the citizens of US has been increasingly in the following year after this rare date range. By finding the date of the start of the increase, the factors in increasing terrorist acts can be easily identified by taking into account the changes and developments in the country after this date."
   ]
  },
  {
   "cell_type": "markdown",
   "metadata": {},
   "source": [
    "### Death and Injuries at all time."
   ]
  },
  {
   "cell_type": "code",
   "execution_count": null,
   "metadata": {},
   "outputs": [],
   "source": [
    "df.plot(kind = 'scatter', x = 'nkill', y = 'nwound', alpha = 0.5, color = 'red', figsize = (20,20), fontsize=15)\n",
    "plt.xlabel('Kill', fontsize=15)\n",
    "plt.ylabel('Wound', fontsize=15)\n",
    "plt.title('Kill - Wound Scatter Plot')\n",
    "plt.show()"
   ]
  },
  {
   "cell_type": "markdown",
   "metadata": {},
   "source": [
    "> In the majority of acts of terrorism, the mortality rate and injuries were low, but a small number of actions led to too many deaths and injuries."
   ]
  },
  {
   "cell_type": "markdown",
   "metadata": {},
   "source": [
    "### Frequency of Terrorist Actions in Customized Region <br>\n",
    "#### Let's analyze in Middle East and North Africa<br>"
   ]
  },
  {
   "cell_type": "code",
   "execution_count": null,
   "metadata": {},
   "outputs": [],
   "source": [
    "middleEastData = df[df['region'] == 10]\n",
    "middleEastData.iyear.plot(kind = 'hist', bins = 30, figsize = (20,20), color = 'red', fontsize=15)\n",
    "plt.xlabel('Year', fontsize=15)\n",
    "plt.ylabel('Frequency', fontsize=15)\n",
    "plt.title('Frequency of Middle East & North Africa Terrorism Actions by Years')\n",
    "plt.show()"
   ]
  },
  {
   "cell_type": "markdown",
   "metadata": {},
   "source": [
    "> Terrorist attacks have increased in recent years."
   ]
  },
  {
   "cell_type": "code",
   "execution_count": null,
   "metadata": {},
   "outputs": [],
   "source": [
    "df.nkillus.plot(kind = 'line', color = 'red', label = 'People Dead of Terrorism in the World', linewidth = 1.5, alpha = 0.8, grid = True, \n",
    "                 linestyle = ':', figsize = (20,20), fontsize=15)\n",
    "middleEastData.nkillus.plot(color = \"green\", label = 'People Dead of Terrorism in the Middle East & North Africa', linewidth = 1.5, alpha = 0.8, \n",
    "                            grid = True, linestyle = '-.', figsize = (20,20), fontsize=15)\n",
    "\n",
    "plt.legend(loc='upper right')     # legend = puts label into plot\n",
    "plt.xlabel('Database Index', fontsize=15)              # label = name of label\n",
    "plt.ylabel('Number of Dead', fontsize=15)\n",
    "\n",
    "plt.title('Comparing those who died in terror attacks in the World and Middle East & North Africa')            #plot title\n",
    "plt.show()"
   ]
  },
  {
   "cell_type": "markdown",
   "metadata": {},
   "source": [
    "### Terrorist Attacks of a Particular year and their Locations.\n",
    "#### Let's look at the terrorist acts in the world over a certain year."
   ]
  },
  {
   "cell_type": "code",
   "execution_count": null,
   "metadata": {},
   "outputs": [],
   "source": [
    "filterYear = df['iyear'] == 1970"
   ]
  },
  {
   "cell_type": "code",
   "execution_count": null,
   "metadata": {},
   "outputs": [],
   "source": [
    "filterData = df[filterYear] # filter data\n",
    "# filterData.info()\n",
    "reqFilterData = filterData.loc[:,'city':'longitude'] #We are getting the required fields\n",
    "reqFilterData = reqFilterData.dropna() # drop NaN values in latitude and longitude\n",
    "reqFilterDataList = reqFilterData.values.tolist()\n",
    "# reqFilterDataList"
   ]
  },
  {
   "cell_type": "code",
   "execution_count": null,
   "metadata": {},
   "outputs": [],
   "source": [
    "map = folium.Map(location = [0, 30], tiles='CartoDB positron', zoom_start=2)\n",
    "# clustered marker\n",
    "markerCluster = folium.plugins.MarkerCluster().add_to(map)\n",
    "for point in range(0, len(reqFilterDataList)):\n",
    "    folium.Marker(location=[reqFilterDataList[point][1],reqFilterDataList[point][2]], popup = reqFilterDataList[point][0]).add_to(markerCluster)\n",
    "map"
   ]
  },
  {
   "cell_type": "markdown",
   "metadata": {},
   "source": [
    ">84% of the terrorist attacks in 1970 were carried out on the American continent. In 1970, the Middle East and North Africa, currently the center of wars and terrorist attacks, faced only one terrorist attack.\n",
    "<br>\n",
    "#### Total Number of people killed in terror attack"
   ]
  },
  {
   "cell_type": "code",
   "execution_count": null,
   "metadata": {},
   "outputs": [],
   "source": [
    "killData = df.loc[:,'nkill']\n",
    "print('Number of people killed by terror attack:', int(sum(killData.dropna())))# drop the NaN values"
   ]
  },
  {
   "cell_type": "markdown",
   "metadata": {},
   "source": [
    ">Number of people killed by terror attack: 411868<br>\n",
    "#### Let's look at what types of attacks these deaths were made of."
   ]
  },
  {
   "cell_type": "code",
   "execution_count": null,
   "metadata": {},
   "outputs": [],
   "source": [
    "attackData = df.loc[:,'attacktype1':'attacktype1_txt']\n",
    "# attackData\n",
    "typeKillData = pd.concat([attackData, killData], axis=1)"
   ]
  },
  {
   "cell_type": "code",
   "execution_count": null,
   "metadata": {},
   "outputs": [],
   "source": [
    "typeKillFormatData = typeKillData.pivot_table(columns='attacktype1_txt', values='nkill', aggfunc='sum')\n",
    "typeKillFormatData"
   ]
  },
  {
   "cell_type": "code",
   "execution_count": null,
   "metadata": {},
   "outputs": [],
   "source": [
    "typeKillFormatData.info()"
   ]
  },
  {
   "cell_type": "code",
   "execution_count": null,
   "metadata": {},
   "outputs": [],
   "source": [
    "labels = typeKillFormatData.columns.tolist() # convert line to list\n",
    "transpoze = typeKillFormatData.T # transpoze\n",
    "values = transpoze.values.tolist()\n",
    "fig, ax = plt.subplots(figsize=(20, 20), subplot_kw=dict(aspect=\"equal\"))\n",
    "plt.pie(values, startangle=90, autopct='%.2f%%')\n",
    "plt.title('Types of terrorist attacks that cause deaths')\n",
    "plt.legend(labels, loc='upper right', bbox_to_anchor = (1.3, 0.9), fontsize=15) # location legend\n",
    "plt.show()"
   ]
  },
  {
   "cell_type": "markdown",
   "metadata": {},
   "source": [
    ">Armed assault and bombing/explosion are seen to be the cause of 77% of the deaths in these attacks. This rate is why these attacks are used so many times in terrorist actions. This is how dangerous weapons and explosives are to the world."
   ]
  },
  {
   "cell_type": "markdown",
   "metadata": {},
   "source": [
    "#### Number of Killed in Terrorist Attacks by Countries."
   ]
  },
  {
   "cell_type": "code",
   "execution_count": null,
   "metadata": {},
   "outputs": [],
   "source": [
    "countryData = df.loc[:,'country':'country_txt']\n",
    "# countyData\n",
    "countryKillData = pd.concat([countryData, killData], axis=1)"
   ]
  },
  {
   "cell_type": "code",
   "execution_count": null,
   "metadata": {},
   "outputs": [],
   "source": [
    "countryKillFormatData = countryKillData.pivot_table(columns='country_txt', values='nkill', aggfunc='sum')\n",
    "countryKillFormatData"
   ]
  },
  {
   "cell_type": "code",
   "execution_count": null,
   "metadata": {},
   "outputs": [],
   "source": [
    "countryKillFormatData.info()"
   ]
  },
  {
   "cell_type": "code",
   "execution_count": null,
   "metadata": {},
   "outputs": [],
   "source": [
    "fig_size = plt.rcParams[\"figure.figsize\"]\n",
    "fig_size[0]=25\n",
    "fig_size[1]=25\n",
    "plt.rcParams[\"figure.figsize\"] = fig_size"
   ]
  },
  {
   "cell_type": "code",
   "execution_count": null,
   "metadata": {},
   "outputs": [],
   "source": [
    "labels = countryKillFormatData.columns.tolist()\n",
    "labels = labels[:50] #50 bar provides nice view\n",
    "index = np.arange(len(labels))\n",
    "transpoze = countryKillFormatData.T\n",
    "values = transpoze.values.tolist()\n",
    "values = values[:50]\n",
    "values = [int(i[0]) for i in values] # convert float to int\n",
    "colors = ['red', 'green', 'blue', 'purple', 'yellow', 'brown', 'black', 'gray', 'magenta', 'orange'] # color list for bar chart bar color \n",
    "fig, ax = plt.subplots(1, 1)\n",
    "ax.yaxis.grid(True)\n",
    "fig_size = plt.rcParams[\"figure.figsize\"]\n",
    "fig_size[0]=25\n",
    "fig_size[1]=25\n",
    "plt.rcParams[\"figure.figsize\"] = fig_size\n",
    "plt.bar(index, values, color = colors, width = 0.9)\n",
    "plt.ylabel('Killed People', fontsize=15)\n",
    "plt.xticks(index, labels, fontsize=12, rotation=90)\n",
    "plt.title('Number of people killed by countries')\n",
    "# print(fig_size)\n",
    "plt.show()\n"
   ]
  },
  {
   "cell_type": "code",
   "execution_count": null,
   "metadata": {},
   "outputs": [],
   "source": [
    "labels = countryKillFormatData.columns.tolist()\n",
    "labels = labels[50:101]\n",
    "index = np.arange(len(labels))\n",
    "transpoze = countryKillFormatData.T\n",
    "values = transpoze.values.tolist()\n",
    "values = values[50:101]\n",
    "values = [int(i[0]) for i in values]\n",
    "colors = ['red', 'green', 'blue', 'purple', 'yellow', 'brown', 'black', 'gray', 'magenta', 'orange']\n",
    "fig, ax = plt.subplots(1, 1)\n",
    "ax.yaxis.grid(True)\n",
    "fig_size = plt.rcParams[\"figure.figsize\"]\n",
    "fig_size[0]=25\n",
    "fig_size[1]=25\n",
    "plt.rcParams[\"figure.figsize\"] = fig_size\n",
    "plt.bar(index, values, color = colors, width = 0.9)\n",
    "plt.ylabel('Killed People', fontsize=15)\n",
    "plt.xticks(index, labels, fontsize=12, rotation=90)\n",
    "plt.title('Number of people killed by countries')\n",
    "plt.show()"
   ]
  },
  {
   "cell_type": "code",
   "execution_count": null,
   "metadata": {},
   "outputs": [],
   "source": [
    "labels = countryKillFormatData.columns.tolist()\n",
    "labels = labels[152:206]\n",
    "index = np.arange(len(labels))\n",
    "transpoze = countryKillFormatData.T\n",
    "values = transpoze.values.tolist()\n",
    "values = values[152:206]\n",
    "values = [int(i[0]) for i in values]\n",
    "colors = ['red', 'green', 'blue', 'purple', 'yellow', 'brown', 'black', 'gray', 'magenta', 'orange']\n",
    "fig, ax = plt.subplots(1, 1)\n",
    "ax.yaxis.grid(True)\n",
    "fig_size = plt.rcParams[\"figure.figsize\"]\n",
    "fig_size[0]=25\n",
    "fig_size[1]=25\n",
    "plt.rcParams[\"figure.figsize\"] = fig_size\n",
    "plt.bar(index, values, color = colors, width = 0.9)\n",
    "plt.ylabel('Killed People', fontsize=15)\n",
    "plt.xticks(index, labels, fontsize=12, rotation=90)\n",
    "plt.title('Number of people killed by countries')\n",
    "plt.show()"
   ]
  },
  {
   "cell_type": "markdown",
   "metadata": {},
   "source": [
    "##### >Terrorist acts in the Middle East and northern Africa have been seen to have fatal consequences. The Middle East and North Africa are seen to be the places of serious terrorist attacks. In addition, even though there is a perception that Muslims are supporters of terrorism, Muslims are the people who are most damaged by terrorist attacks. If you look at the graphics, it appears that Iraq, Afghanistan and Pakistan are the most damaged countries. All of these countries are Muslim countries.\n",
    "\n",
    "##### - > thank You !"
   ]
  },
  {
   "cell_type": "code",
   "execution_count": null,
   "metadata": {},
   "outputs": [],
   "source": []
  }
 ],
 "metadata": {
  "kernelspec": {
   "display_name": "Python 3",
   "language": "python",
   "name": "python3"
  },
  "language_info": {
   "codemirror_mode": {
    "name": "ipython",
    "version": 3
   },
   "file_extension": ".py",
   "mimetype": "text/x-python",
   "name": "python",
   "nbconvert_exporter": "python",
   "pygments_lexer": "ipython3",
   "version": "3.7.4"
  }
 },
 "nbformat": 4,
 "nbformat_minor": 4
}
